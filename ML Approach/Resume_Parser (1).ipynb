{
  "nbformat": 4,
  "nbformat_minor": 0,
  "metadata": {
    "colab": {
      "name": "Resume-Parser.ipynb",
      "provenance": []
    },
    "kernelspec": {
      "name": "python3",
      "display_name": "Python 3"
    }
  },
  "cells": [
    {
      "cell_type": "code",
      "metadata": {
        "id": "GjsIqTg59NNW"
      },
      "source": [
        "import spacy\n",
        "import pickle\n",
        "import random"
      ],
      "execution_count": 17,
      "outputs": []
    },
    {
      "cell_type": "code",
      "metadata": {
        "id": "Pe6YzeMz9az-",
        "outputId": "06b52a77-05c6-4a56-9f4e-77ca507e88e2",
        "colab": {
          "base_uri": "https://localhost:8080/"
        }
      },
      "source": [
        "train_data = pickle.load(open('train_data.pkl', 'rb'))\n",
        "train_data[0]"
      ],
      "execution_count": 18,
      "outputs": [
        {
          "output_type": "execute_result",
          "data": {
            "text/plain": [
              "('Govardhana K Senior Software Engineer  Bengaluru, Karnataka, Karnataka - Email me on Indeed: indeed.com/r/Govardhana-K/ b2de315d95905b68  Total IT experience 5 Years 6 Months Cloud Lending Solutions INC 4 Month • Salesforce Developer Oracle 5 Years 2 Month • Core Java Developer Languages Core Java, Go Lang Oracle PL-SQL programming, Sales Force Developer with APEX.  Designations & Promotions  Willing to relocate: Anywhere  WORK EXPERIENCE  Senior Software Engineer  Cloud Lending Solutions -  Bangalore, Karnataka -  January 2018 to Present  Present  Senior Consultant  Oracle -  Bangalore, Karnataka -  November 2016 to December 2017  Staff Consultant  Oracle -  Bangalore, Karnataka -  January 2014 to October 2016  Associate Consultant  Oracle -  Bangalore, Karnataka -  November 2012 to December 2013  EDUCATION  B.E in Computer Science Engineering  Adithya Institute of Technology -  Tamil Nadu  September 2008 to June 2012  https://www.indeed.com/r/Govardhana-K/b2de315d95905b68?isid=rex-download&ikw=download-top&co=IN https://www.indeed.com/r/Govardhana-K/b2de315d95905b68?isid=rex-download&ikw=download-top&co=IN   SKILLS  APEX. (Less than 1 year), Data Structures (3 years), FLEXCUBE (5 years), Oracle (5 years), Algorithms (3 years)  LINKS  https://www.linkedin.com/in/govardhana-k-61024944/  ADDITIONAL INFORMATION  Technical Proficiency:  Languages: Core Java, Go Lang, Data Structures & Algorithms, Oracle PL-SQL programming, Sales Force with APEX. Tools: RADTool, Jdeveloper, NetBeans, Eclipse, SQL developer, PL/SQL Developer, WinSCP, Putty Web Technologies: JavaScript, XML, HTML, Webservice  Operating Systems: Linux, Windows Version control system SVN & Git-Hub Databases: Oracle Middleware: Web logic, OC4J Product FLEXCUBE: Oracle FLEXCUBE Versions 10.x, 11.x and 12.x  https://www.linkedin.com/in/govardhana-k-61024944/',\n",
              " {'entities': [(1749, 1755, 'Companies worked at'),\n",
              "   (1696, 1702, 'Companies worked at'),\n",
              "   (1417, 1423, 'Companies worked at'),\n",
              "   (1356, 1793, 'Skills'),\n",
              "   (1209, 1215, 'Companies worked at'),\n",
              "   (1136, 1248, 'Skills'),\n",
              "   (928, 932, 'Graduation Year'),\n",
              "   (858, 889, 'College Name'),\n",
              "   (821, 856, 'Degree'),\n",
              "   (787, 791, 'Graduation Year'),\n",
              "   (744, 750, 'Companies worked at'),\n",
              "   (722, 742, 'Designation'),\n",
              "   (658, 664, 'Companies worked at'),\n",
              "   (640, 656, 'Designation'),\n",
              "   (574, 580, 'Companies worked at'),\n",
              "   (555, 573, 'Designation'),\n",
              "   (470, 493, 'Companies worked at'),\n",
              "   (444, 469, 'Designation'),\n",
              "   (308, 314, 'Companies worked at'),\n",
              "   (234, 240, 'Companies worked at'),\n",
              "   (175, 198, 'Companies worked at'),\n",
              "   (93, 137, 'Email Address'),\n",
              "   (39, 48, 'Location'),\n",
              "   (13, 38, 'Designation'),\n",
              "   (0, 12, 'Name')]})"
            ]
          },
          "metadata": {
            "tags": []
          },
          "execution_count": 18
        }
      ]
    },
    {
      "cell_type": "code",
      "metadata": {
        "id": "iDBq_Zz49j3Z"
      },
      "source": [
        "nlp = spacy.blank('en')\n",
        "\n",
        "def train_model(train_data):\n",
        "    if 'ner' not in nlp.pipe_names:\n",
        "        ner = nlp.create_pipe('ner')\n",
        "        nlp.add_pipe(ner, last = True)\n",
        "    \n",
        "    for _, annotation in train_data:\n",
        "        for ent in annotation['entities']:\n",
        "            ner.add_label(ent[2])\n",
        "            \n",
        "    \n",
        "    other_pipes = [pipe for pipe in nlp.pipe_names if pipe != 'ner']\n",
        "    with nlp.disable_pipes(*other_pipes):  # only train NER\n",
        "        optimizer = nlp.begin_training()\n",
        "        for itn in range(10):\n",
        "            print(\"Statring iteration \" + str(itn))\n",
        "            random.shuffle(train_data)\n",
        "            losses = {}\n",
        "            index = 0\n",
        "            for text, annotations in train_data:\n",
        "                try:\n",
        "                    nlp.update(\n",
        "                        [text],  # batch of texts\n",
        "                        [annotations],  # batch of annotations\n",
        "                        drop=0.2,  # dropout - make it harder to memorise data\n",
        "                        sgd=optimizer,  # callable to update weights\n",
        "                        losses=losses)\n",
        "                except Exception as e:\n",
        "                    pass\n",
        "                \n",
        "            print(losses)\n",
        "    "
      ],
      "execution_count": 19,
      "outputs": []
    },
    {
      "cell_type": "code",
      "metadata": {
        "id": "z4WSjaAb9wtZ",
        "outputId": "92fa1eb1-af25-4a93-8d1f-fafbd5c6eb48",
        "colab": {
          "base_uri": "https://localhost:8080/"
        }
      },
      "source": [
        "train_model(train_data)"
      ],
      "execution_count": 20,
      "outputs": [
        {
          "output_type": "stream",
          "text": [
            "Statring iteration 0\n",
            "{'ner': 15437.056169815718}\n",
            "Statring iteration 1\n",
            "{'ner': 11535.532822716163}\n",
            "Statring iteration 2\n",
            "{'ner': 9503.211848936737}\n",
            "Statring iteration 3\n",
            "{'ner': 7992.478447735519}\n",
            "Statring iteration 4\n",
            "{'ner': 6079.627460361285}\n",
            "Statring iteration 5\n",
            "{'ner': 4881.53824571216}\n",
            "Statring iteration 6\n",
            "{'ner': 6299.140179365195}\n",
            "Statring iteration 7\n",
            "{'ner': 4565.099246710874}\n",
            "Statring iteration 8\n",
            "{'ner': 4049.9170016815456}\n",
            "Statring iteration 9\n",
            "{'ner': 4763.480781305039}\n"
          ],
          "name": "stdout"
        }
      ]
    },
    {
      "cell_type": "code",
      "metadata": {
        "id": "8Es6er9G9zvV"
      },
      "source": [
        "nlp.to_disk('nlp_model')"
      ],
      "execution_count": 21,
      "outputs": []
    },
    {
      "cell_type": "code",
      "metadata": {
        "id": "aLG82Llo-qLb"
      },
      "source": [
        "nlp_model = spacy.load('nlp_model')"
      ],
      "execution_count": 22,
      "outputs": []
    },
    {
      "cell_type": "code",
      "metadata": {
        "id": "XE75TlpS-smY",
        "outputId": "4bbd4461-08cc-4a72-cc6c-0e1e4a9526ea",
        "colab": {
          "base_uri": "https://localhost:8080/",
          "height": 89
        }
      },
      "source": [
        "train_data[0][0]"
      ],
      "execution_count": 23,
      "outputs": [
        {
          "output_type": "execute_result",
          "data": {
            "application/vnd.google.colaboratory.intrinsic+json": {
              "type": "string"
            },
            "text/plain": [
              "'Anand S Bangalore, Karnataka - Email me on Indeed: indeed.com/r/Anand-S/ce230cad6115ae68  WORK EXPERIENCE  Space auditing  Microsoft -  2017 to 2017  Auditing the space.  EDUCATION  Vijaya main  Vijaya  SKILLS  Good listener,take up responsibilities,good at communication,great at taking challenges,excellent in various sports like soccer,cricket,kabbadi,cycling,running,swimming, fluent in English,kannada, known languages hindi,tail,telugu  https://www.indeed.com/r/Anand-S/ce230cad6115ae68?isid=rex-download&ikw=download-top&co=IN'"
            ]
          },
          "metadata": {
            "tags": []
          },
          "execution_count": 23
        }
      ]
    },
    {
      "cell_type": "code",
      "metadata": {
        "id": "XrEcxkwf-utI",
        "outputId": "f24c3785-85e2-4699-f6c6-7622471be27e",
        "colab": {
          "base_uri": "https://localhost:8080/"
        }
      },
      "source": [
        "doc = nlp_model(train_data[0][0])\n",
        "for ent in doc.ents:\n",
        "    print(f'{ent.label_.upper():{30}}- {ent.text}')"
      ],
      "execution_count": 24,
      "outputs": [
        {
          "output_type": "stream",
          "text": [
            "NAME                          - Anand S\n",
            "LOCATION                      - Bangalore\n",
            "EMAIL ADDRESS                 - indeed.com/r/Anand-S/ce230cad6115ae68\n",
            "DESIGNATION                   - Space auditing\n",
            "COMPANIES WORKED AT           - Microsoft\n",
            "SKILLS                        - Vijaya main  Vijaya\n",
            "SKILLS                        - Good listener,take up responsibilities,good at communication,great at taking challenges,excellent in various sports like soccer,cricket,kabbadi,cycling,running,swimming, fluent in English,kannada, known languages hindi,tail,telugu\n"
          ],
          "name": "stdout"
        }
      ]
    },
    {
      "cell_type": "code",
      "metadata": {
        "id": "aaf3yu2r-2dg",
        "outputId": "71b78dbc-9a6b-458f-b858-08310bea3c0e",
        "colab": {
          "base_uri": "https://localhost:8080/",
          "height": 107
        }
      },
      "source": [
        "train_data[2][0]"
      ],
      "execution_count": 25,
      "outputs": [
        {
          "output_type": "execute_result",
          "data": {
            "application/vnd.google.colaboratory.intrinsic+json": {
              "type": "string"
            },
            "text/plain": [
              "\"Shiksha Bhatnagar chnadigarh - Email me on Indeed: indeed.com/r/Shiksha-Bhatnagar/70e68b28225ca499  WORK EXPERIENCE  online job in home  Microsoft and copy past -  Chandigarh, Chandigarh -  August 2016 to July 2017  i need a online job so that i can attend  my regular college and i want to earn money that's it a part time online job so that i can do it on my phone or laptop  EDUCATION  pass 12 in medical  chandigarh university -  Chandigarh, Chandigarh  September 2016 to August 2019  SKILLS  Microsoft office and java (Less than 1 year)  ADDITIONAL INFORMATION  i want to earn money by my hard work or smart work p  https://www.indeed.com/r/Shiksha-Bhatnagar/70e68b28225ca499?isid=rex-download&ikw=download-top&co=IN\""
            ]
          },
          "metadata": {
            "tags": []
          },
          "execution_count": 25
        }
      ]
    },
    {
      "cell_type": "code",
      "metadata": {
        "id": "e8C1eX53_Arl",
        "outputId": "fcb9ed45-b5ae-4a9c-bf6b-165b94a207a4",
        "colab": {
          "base_uri": "https://localhost:8080/"
        }
      },
      "source": [
        "doc = nlp_model(train_data[2][0])\n",
        "for ent in doc.ents:\n",
        "    print(f'{ent.label_.upper():{30}}- {ent.text}')"
      ],
      "execution_count": 26,
      "outputs": [
        {
          "output_type": "stream",
          "text": [
            "NAME                          - Shiksha Bhatnagar\n",
            "LOCATION                      - chnadigarh\n",
            "EMAIL ADDRESS                 - indeed.com/r/Shiksha-Bhatnagar/70e68b28225ca499\n",
            "LOCATION                      - Chandigarh\n",
            "LOCATION                      - Chandigarh\n",
            "SKILLS                        - Microsoft office and java (Less than 1 year)\n"
          ],
          "name": "stdout"
        }
      ]
    },
    {
      "cell_type": "code",
      "metadata": {
        "id": "RAZExwkq6i6L"
      },
      "source": [
        ""
      ],
      "execution_count": null,
      "outputs": []
    }
  ]
}